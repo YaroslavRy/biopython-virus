{
 "cells": [
  {
   "cell_type": "code",
   "execution_count": 6,
   "id": "44745669",
   "metadata": {},
   "outputs": [],
   "source": [
    "import numpy as np\n",
    "import matplotlib.pyplot as plt\n",
    "import Bio\n",
    "from Bio import SeqIO, SearchIO, Entrez\n",
    "from Bio.Seq import Seq\n",
    "from Bio.SeqUtils import GC\n",
    "from Bio.Blast import NCBIWWW\n",
    "from Bio.Data import CodonTable\n",
    "from auth import auth"
   ]
  },
  {
   "cell_type": "code",
   "execution_count": 7,
   "id": "e3ac172f",
   "metadata": {},
   "outputs": [],
   "source": [
    "Entrez.email = auth['login']\n",
    "Entrez.api_key = auth['key']"
   ]
  },
  {
   "cell_type": "code",
   "execution_count": 31,
   "id": "0cfb40b4",
   "metadata": {},
   "outputs": [],
   "source": [
    "# NCBI_id ='NC_045512.2'  # Coronavirus\n",
    "NCBI_id ='NC_043314.1'  # Diolcogaster facetosa bracovirus"
   ]
  },
  {
   "cell_type": "code",
   "execution_count": 32,
   "id": "cb3eeba2",
   "metadata": {},
   "outputs": [],
   "source": [
    "handle = Entrez.efetch(db=\"nucleotide\", id=NCBI_id, retmode=\"text\", rettype=\"gb\")\n",
    "# handle.read().split('\\n')"
   ]
  },
  {
   "cell_type": "code",
   "execution_count": 33,
   "id": "af70e53f",
   "metadata": {},
   "outputs": [
    {
     "data": {
      "text/plain": [
       "SeqRecord(seq=Seq('GATCTTCTCAACATCGTTTCTGAATCAACCAATTCTCTGAAAGCTCTCGGACTT...ATC'), id='NC_043314.1', name='NC_043314', description='Diolcogaster facetosa bracovirus clone BAC 2A4, complete sequence', dbxrefs=['BioProject:PRJNA485481'])"
      ]
     },
     "execution_count": 33,
     "metadata": {},
     "output_type": "execute_result"
    }
   ],
   "source": [
    "genbank_record = SeqIO.read(handle, \"genbank\")\n",
    "genbank_record"
   ]
  },
  {
   "cell_type": "code",
   "execution_count": 34,
   "id": "10e77468",
   "metadata": {},
   "outputs": [
    {
     "data": {
      "text/plain": [
       "['molecule_type',\n",
       " 'topology',\n",
       " 'data_file_division',\n",
       " 'date',\n",
       " 'accessions',\n",
       " 'sequence_version',\n",
       " 'keywords',\n",
       " 'source',\n",
       " 'organism',\n",
       " 'taxonomy',\n",
       " 'references',\n",
       " 'comment']"
      ]
     },
     "execution_count": 34,
     "metadata": {},
     "output_type": "execute_result"
    }
   ],
   "source": [
    "[x for x in genbank_record.annotations]"
   ]
  },
  {
   "cell_type": "code",
   "execution_count": 35,
   "id": "823fef3e",
   "metadata": {},
   "outputs": [],
   "source": [
    "interested_keys = [\n",
    "    'molecule_type',\n",
    "    'topology',\n",
    "    'sequence_version',\n",
    "    'keywords',\n",
    "    'source',\n",
    "    'organism',\n",
    "    'taxonomy',\n",
    "]"
   ]
  },
  {
   "cell_type": "code",
   "execution_count": 36,
   "id": "2c56d556",
   "metadata": {},
   "outputs": [
    {
     "data": {
      "text/plain": [
       "{'molecule_type': 'DNA',\n",
       " 'topology': 'linear',\n",
       " 'sequence_version': 1,\n",
       " 'keywords': ['HTG', 'RefSeq'],\n",
       " 'source': 'Diolcogaster facetosa bracovirus',\n",
       " 'organism': 'Diolcogaster facetosa bracovirus',\n",
       " 'taxonomy': ['Viruses', 'Polydnaviridae', 'Bracovirus']}"
      ]
     },
     "execution_count": 36,
     "metadata": {},
     "output_type": "execute_result"
    }
   ],
   "source": [
    "{x: genbank_record.annotations[x] for x in genbank_record.annotations if x in interested_keys}"
   ]
  },
  {
   "cell_type": "code",
   "execution_count": 37,
   "id": "56085168-6bd3-4c06-8713-fcbd37fef000",
   "metadata": {},
   "outputs": [
    {
     "data": {
      "text/plain": [
       "{'CDS', 'gene', 'misc_feature', 'source'}"
      ]
     },
     "execution_count": 37,
     "metadata": {},
     "output_type": "execute_result"
    }
   ],
   "source": [
    "{feature.type for feature in genbank_record.features}"
   ]
  },
  {
   "cell_type": "code",
   "execution_count": 52,
   "id": "d84af717",
   "metadata": {},
   "outputs": [
    {
     "data": {
      "text/plain": [
       "140906"
      ]
     },
     "execution_count": 52,
     "metadata": {},
     "output_type": "execute_result"
    }
   ],
   "source": [
    "len(genbank_record.seq)"
   ]
  },
  {
   "cell_type": "code",
   "execution_count": 39,
   "id": "4d0f71b7-37fa-438d-9e55-cdb2e98037d0",
   "metadata": {},
   "outputs": [
    {
     "data": {
      "text/plain": [
       "45"
      ]
     },
     "execution_count": 39,
     "metadata": {},
     "output_type": "execute_result"
    }
   ],
   "source": [
    "CDSs = [feature for feature in genbank_record.features if feature.type == \"CDS\"]\n",
    "len(CDSs)"
   ]
  },
  {
   "cell_type": "code",
   "execution_count": 50,
   "id": "309bb1e3-de8b-46e1-8f02-2c17cb48d3ce",
   "metadata": {
    "scrolled": true
   },
   "outputs": [
    {
     "data": {
      "text/plain": [
       "[['bv6.11'],\n",
       " ['bv8.1'],\n",
       " ['bv18.1'],\n",
       " ['ben_2'],\n",
       " ['bv21.1'],\n",
       " ['bv6.1'],\n",
       " ['bv9.1'],\n",
       " ['bv10.1'],\n",
       " ['bv6.2'],\n",
       " ['bv8.2'],\n",
       " ['bv6.3'],\n",
       " ['bv6.4'],\n",
       " ['crp3'],\n",
       " ['bv6.5'],\n",
       " ['bv6.6'],\n",
       " ['bv8.3'],\n",
       " ['bv9.2'],\n",
       " ['bv10.2'],\n",
       " ['bv6.7'],\n",
       " ['bv23.1'],\n",
       " ['bv6.8'],\n",
       " ['bv9.3'],\n",
       " ['bv8.5'],\n",
       " ['bv6.9'],\n",
       " ['bv6.10'],\n",
       " ['ep1-1'],\n",
       " ['bv19.1']]"
      ]
     },
     "execution_count": 50,
     "metadata": {},
     "output_type": "execute_result"
    }
   ],
   "source": [
    "[x.qualifiers[\"gene\"] for x in CDSs if 'gene' in x.qualifiers]"
   ]
  },
  {
   "cell_type": "code",
   "execution_count": 43,
   "id": "ddd52c80-a9e0-4038-a45d-76a1afc14b05",
   "metadata": {},
   "outputs": [],
   "source": [
    "protein_seq = Seq(CDSs[0].qualifiers[\"translation\"][0])"
   ]
  },
  {
   "cell_type": "code",
   "execution_count": 44,
   "id": "3cbab8c3-3280-4747-87ea-3d301a594fc9",
   "metadata": {
    "scrolled": true
   },
   "outputs": [
    {
     "name": "stdout",
     "output_type": "stream",
     "text": [
      "Protein sequence length in amino acids 82\n"
     ]
    }
   ],
   "source": [
    "print('Protein sequence length in amino acids', len(protein_seq))"
   ]
  },
  {
   "cell_type": "code",
   "execution_count": 45,
   "id": "3a2d8522-c304-4e1a-8939-23cd4a259d3d",
   "metadata": {},
   "outputs": [],
   "source": [
    "from IPython.core.display import Image\n",
    "\n",
    "from reportlab.lib import colors\n",
    "from reportlab.lib.units import cm\n",
    "from Bio.Graphics import GenomeDiagram\n",
    "from Bio import SeqIO"
   ]
  },
  {
   "cell_type": "code",
   "execution_count": 55,
   "id": "f256040d",
   "metadata": {},
   "outputs": [],
   "source": [
    "gd_diagram = GenomeDiagram.Diagram(genbank_record.annotations['organism'])\n",
    "gd_track_for_features = gd_diagram.new_track(1, name=\"Annotated Features\")\n",
    "gd_feature_set = gd_track_for_features.new_set()"
   ]
  },
  {
   "cell_type": "code",
   "execution_count": 64,
   "id": "0603080b",
   "metadata": {},
   "outputs": [],
   "source": [
    "for feature in genbank_record.features:\n",
    "    if feature.type != \"gene\":\n",
    "        continue\n",
    "    if len(gd_feature_set) % 2 == 0:\n",
    "        color = colors.blue\n",
    "    else:\n",
    "        color = colors.red\n",
    "    gd_feature_set.add_feature(feature, color=color, label=True)"
   ]
  },
  {
   "cell_type": "code",
   "execution_count": 68,
   "id": "0700e68a",
   "metadata": {},
   "outputs": [
    {
     "data": {
      "image/png": "[encoded data removed]",
      "text/plain": [
       "<IPython.core.display.Image object>"
      ]
     },
     "execution_count": 68,
     "metadata": {},
     "output_type": "execute_result"
    }
   ],
   "source": [
    "gd_diagram.draw(format=\"linear\", \n",
    "                orientation=\"landscape\", \n",
    "                pagesize='A4', \n",
    "                fragments=14, \n",
    "                start=0, \n",
    "                end=len(genbank_record))\n",
    "gd_diagram.write(\"linear.png\", \"png\")\n",
    "Image(\"linear.png\")"
   ]
  }
 ],
 "metadata": {
  "kernelspec": {
   "display_name": "venv",
   "language": "python",
   "name": "venv"
  },
  "language_info": {
   "codemirror_mode": {
    "name": "ipython",
    "version": 3
   },
   "file_extension": ".py",
   "mimetype": "text/x-python",
   "name": "python",
   "nbconvert_exporter": "python",
   "pygments_lexer": "ipython3",
   "version": "3.8.10"
  },
  "toc": {
   "base_numbering": 1,
   "nav_menu": {},
   "number_sections": true,
   "sideBar": true,
   "skip_h1_title": false,
   "title_cell": "Table of Contents",
   "title_sidebar": "Contents",
   "toc_cell": false,
   "toc_position": {},
   "toc_section_display": true,
   "toc_window_display": false
  }
 },
 "nbformat": 4,
 "nbformat_minor": 5
}
